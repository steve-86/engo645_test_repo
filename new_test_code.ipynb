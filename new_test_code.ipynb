{
 "cells": [
  {
   "cell_type": "code",
   "execution_count": 1,
   "id": "c5e9ce36-c50e-4a33-9a73-8611cf517882",
   "metadata": {},
   "outputs": [
    {
     "name": "stdout",
     "output_type": "stream",
     "text": [
      "Hello ENGO 645 Students\n"
     ]
    }
   ],
   "source": [
    "print(\"Hello ENGO 645 Students\")"
   ]
  },
  {
   "cell_type": "code",
   "execution_count": 11,
   "id": "585e597b-9588-40d6-9e61-11970d1c15c2",
   "metadata": {},
   "outputs": [
    {
     "name": "stdout",
     "output_type": "stream",
     "text": [
      "[3, 4]\n"
     ]
    }
   ],
   "source": [
    "s = []\n",
    "for i in range(10):\n",
    "    s.append(i)\n",
    "print(s[3:5])"
   ]
  },
  {
   "cell_type": "code",
   "execution_count": null,
   "id": "892531f7-9caa-409f-a1ed-2b5ac34001e9",
   "metadata": {},
   "outputs": [],
   "source": []
  }
 ],
 "metadata": {
  "kernelspec": {
   "display_name": "Python 3 (ipykernel)",
   "language": "python",
   "name": "python3"
  },
  "language_info": {
   "codemirror_mode": {
    "name": "ipython",
    "version": 3
   },
   "file_extension": ".py",
   "mimetype": "text/x-python",
   "name": "python",
   "nbconvert_exporter": "python",
   "pygments_lexer": "ipython3",
   "version": "3.10.9"
  }
 },
 "nbformat": 4,
 "nbformat_minor": 5
}

{
  "cells": [
    {
      "cell_type": "markdown",
      "metadata": {
        "id": "view-in-github",
        "colab_type": "text"
      },
      "source": [
        "<a href=\"https://colab.research.google.com/github/steve-86/engo645_test_repo/blob/main/Bonus_Assignment.ipynb\" target=\"_parent\"><img src=\"https://colab.research.google.com/assets/colab-badge.svg\" alt=\"Open In Colab\"/></a>"
      ]
    },
    {
      "cell_type": "markdown",
      "metadata": {
        "id": "lAKVfDiB6u9w"
      },
      "source": [
        "# Bonus Assignment: Stop detection in GPS tracks — Movingpandas & KeplerGl\n",
        "\n",
        "Bonus Assignmet mainly has 3 parts:\n",
        "1) Layer creation with Geopandas\n",
        "2) Stop detection with movingpandas\n",
        "3) Point map visualization with KeplerGl\n",
        "\n",
        "\n",
        "Remember to save and commit your changes locally, and push your changes to GitHub after each major change! Regular commits will help you to keep track of your changes (and revert them if needed). Pushing your work to GitHub will ensure that you don't lose any work in case your computer crashes (can happen!).\n",
        "\n",
        "## Notes about the exercise notebook\n",
        "\n",
        "1. The Python code cells where you should make changes contain text that reads:\n",
        "\n",
        "    ```Python\n",
        "\n",
        "    # YOUR CODE HERE\n",
        "    raise NotImplementedError()\n",
        "    \n",
        "    ```\n",
        "    <br/>**You should delete that text and replace it with your solution (code)**.\n",
        "\n",
        "   \n",
        "   <br><br/>\n",
        "2. The Markdown cells where you should make changes contain text that reads:\n",
        "\n",
        "    ```text\n",
        "    \n",
        "    YOUR ANSWER HERE\n",
        "    ```\n",
        "    <br/>**You should delete that text and replace it with your answer**.\n",
        "<br><br/>\n",
        "\n",
        "3. Some of the cells in this Jupyter Notebook are `# test-cell`, which means that you must not edit them.\n",
        "\n",
        "\n"
      ]
    },
    {
      "cell_type": "markdown",
      "metadata": {
        "id": "lUn3mS-R6u90"
      },
      "source": [
        "## Overview:\n",
        "\n",
        "In this assignment, we are going to practice how to create a point map with stop’s duration in birds migration tracking"
      ]
    },
    {
      "cell_type": "markdown",
      "metadata": {
        "id": "e9QF--Uw6u91"
      },
      "source": [
        "Let’s put our hands on the assignment. In this analysis example, we use a dataset from [The Global Biodiversity Information Facility](https://www.gbif.org/) which contains the GPS records of three Black-backed Gulls: Eric, Nico, and Sanne. You can find the entire dataset with more gulls on the GBIF website and the three birds dataset is in the `Data` folder with this notebook."
      ]
    },
    {
      "cell_type": "markdown",
      "metadata": {
        "id": "vatA5-R06u92"
      },
      "source": [
        "## Part 1: Layer creation with Geopandas"
      ]
    },
    {
      "cell_type": "markdown",
      "metadata": {
        "id": "kPzJarNK6u92"
      },
      "source": [
        "First it is efficient to import all the python libraries we are going to use."
      ]
    },
    {
      "cell_type": "code",
      "execution_count": null,
      "metadata": {
        "id": "GfVURdib6u93"
      },
      "outputs": [],
      "source": [
        "#!pip install movingpandas\n",
        "#!pip install keplergl\n",
        "import pandas as pd\n",
        "import geopandas as gpd\n",
        "import movingpandas as mpd\n",
        "from pyproj import CRS\n",
        "from keplergl import KeplerGl\n",
        "from datetime import datetime, timedelta\n",
        "from shapely.geometry import Point  # Import Point class from shapely.geometry\n",
        "from datetime import datetime\n",
        "from movingpandas.trajectory_collection import TrajectoryCollection\n",
        "from movingpandas import Trajectory\n",
        "from movingpandas import TrajectoryStopDetector\n",
        "import warnings"
      ]
    },
    {
      "cell_type": "markdown",
      "metadata": {
        "id": "pikG9VOs6u94"
      },
      "source": [
        "### Step1: read data\n",
        "Then, the process goes simple. Read the CSV file using Pandas."
      ]
    },
    {
      "cell_type": "code",
      "execution_count": null,
      "metadata": {
        "id": "6SLFLp706u94",
        "outputId": "c4fb205a-cef5-4b55-e624-65d0854ff21b"
      },
      "outputs": [
        {
          "data": {
            "text/html": [
              "<div>\n",
              "<style scoped>\n",
              "    .dataframe tbody tr th:only-of-type {\n",
              "        vertical-align: middle;\n",
              "    }\n",
              "\n",
              "    .dataframe tbody tr th {\n",
              "        vertical-align: top;\n",
              "    }\n",
              "\n",
              "    .dataframe thead th {\n",
              "        text-align: right;\n",
              "    }\n",
              "</style>\n",
              "<table border=\"1\" class=\"dataframe\">\n",
              "  <thead>\n",
              "    <tr style=\"text-align: right;\">\n",
              "      <th></th>\n",
              "      <th>index</th>\n",
              "      <th>altitude</th>\n",
              "      <th>date_time</th>\n",
              "      <th>device_info_serial</th>\n",
              "      <th>direction</th>\n",
              "      <th>latitude</th>\n",
              "      <th>longitude</th>\n",
              "      <th>speed_2d</th>\n",
              "      <th>bird_name</th>\n",
              "    </tr>\n",
              "  </thead>\n",
              "  <tbody>\n",
              "    <tr>\n",
              "      <th>0</th>\n",
              "      <td>0</td>\n",
              "      <td>71</td>\n",
              "      <td>2013-08-15 00:18:08+00</td>\n",
              "      <td>851</td>\n",
              "      <td>-150.469753</td>\n",
              "      <td>49.419860</td>\n",
              "      <td>2.120733</td>\n",
              "      <td>0.150000</td>\n",
              "      <td>Eric</td>\n",
              "    </tr>\n",
              "    <tr>\n",
              "      <th>1</th>\n",
              "      <td>1</td>\n",
              "      <td>68</td>\n",
              "      <td>2013-08-15 00:48:07+00</td>\n",
              "      <td>851</td>\n",
              "      <td>-136.151141</td>\n",
              "      <td>49.419880</td>\n",
              "      <td>2.120746</td>\n",
              "      <td>2.438360</td>\n",
              "      <td>Eric</td>\n",
              "    </tr>\n",
              "    <tr>\n",
              "      <th>2</th>\n",
              "      <td>2</td>\n",
              "      <td>68</td>\n",
              "      <td>2013-08-15 01:17:58+00</td>\n",
              "      <td>851</td>\n",
              "      <td>160.797477</td>\n",
              "      <td>49.420310</td>\n",
              "      <td>2.120885</td>\n",
              "      <td>0.596657</td>\n",
              "      <td>Eric</td>\n",
              "    </tr>\n",
              "    <tr>\n",
              "      <th>3</th>\n",
              "      <td>3</td>\n",
              "      <td>73</td>\n",
              "      <td>2013-08-15 01:47:51+00</td>\n",
              "      <td>851</td>\n",
              "      <td>32.769360</td>\n",
              "      <td>49.420359</td>\n",
              "      <td>2.120859</td>\n",
              "      <td>0.310161</td>\n",
              "      <td>Eric</td>\n",
              "    </tr>\n",
              "    <tr>\n",
              "      <th>4</th>\n",
              "      <td>4</td>\n",
              "      <td>69</td>\n",
              "      <td>2013-08-15 02:17:42+00</td>\n",
              "      <td>851</td>\n",
              "      <td>45.191230</td>\n",
              "      <td>49.420331</td>\n",
              "      <td>2.120887</td>\n",
              "      <td>0.193132</td>\n",
              "      <td>Eric</td>\n",
              "    </tr>\n",
              "    <tr>\n",
              "      <th>...</th>\n",
              "      <td>...</td>\n",
              "      <td>...</td>\n",
              "      <td>...</td>\n",
              "      <td>...</td>\n",
              "      <td>...</td>\n",
              "      <td>...</td>\n",
              "      <td>...</td>\n",
              "      <td>...</td>\n",
              "      <td>...</td>\n",
              "    </tr>\n",
              "    <tr>\n",
              "      <th>61915</th>\n",
              "      <td>61915</td>\n",
              "      <td>11</td>\n",
              "      <td>2014-04-30 22:00:08+00</td>\n",
              "      <td>833</td>\n",
              "      <td>45.448157</td>\n",
              "      <td>51.352572</td>\n",
              "      <td>3.177151</td>\n",
              "      <td>0.208087</td>\n",
              "      <td>Sanne</td>\n",
              "    </tr>\n",
              "    <tr>\n",
              "      <th>61916</th>\n",
              "      <td>61916</td>\n",
              "      <td>6</td>\n",
              "      <td>2014-04-30 22:29:57+00</td>\n",
              "      <td>833</td>\n",
              "      <td>-112.073055</td>\n",
              "      <td>51.352585</td>\n",
              "      <td>3.177144</td>\n",
              "      <td>1.522662</td>\n",
              "      <td>Sanne</td>\n",
              "    </tr>\n",
              "    <tr>\n",
              "      <th>61917</th>\n",
              "      <td>61917</td>\n",
              "      <td>5</td>\n",
              "      <td>2014-04-30 22:59:52+00</td>\n",
              "      <td>833</td>\n",
              "      <td>69.989037</td>\n",
              "      <td>51.352622</td>\n",
              "      <td>3.177257</td>\n",
              "      <td>3.120545</td>\n",
              "      <td>Sanne</td>\n",
              "    </tr>\n",
              "    <tr>\n",
              "      <th>61918</th>\n",
              "      <td>61918</td>\n",
              "      <td>16</td>\n",
              "      <td>2014-04-30 23:29:43+00</td>\n",
              "      <td>833</td>\n",
              "      <td>88.376373</td>\n",
              "      <td>51.354641</td>\n",
              "      <td>3.181509</td>\n",
              "      <td>0.592115</td>\n",
              "      <td>Sanne</td>\n",
              "    </tr>\n",
              "    <tr>\n",
              "      <th>61919</th>\n",
              "      <td>61919</td>\n",
              "      <td>9</td>\n",
              "      <td>2014-04-30 23:59:34+00</td>\n",
              "      <td>833</td>\n",
              "      <td>149.949008</td>\n",
              "      <td>51.354474</td>\n",
              "      <td>3.181057</td>\n",
              "      <td>0.485489</td>\n",
              "      <td>Sanne</td>\n",
              "    </tr>\n",
              "  </tbody>\n",
              "</table>\n",
              "<p>61920 rows × 9 columns</p>\n",
              "</div>"
            ],
            "text/plain": [
              "       index  altitude               date_time  device_info_serial  \\\n",
              "0          0        71  2013-08-15 00:18:08+00                 851   \n",
              "1          1        68  2013-08-15 00:48:07+00                 851   \n",
              "2          2        68  2013-08-15 01:17:58+00                 851   \n",
              "3          3        73  2013-08-15 01:47:51+00                 851   \n",
              "4          4        69  2013-08-15 02:17:42+00                 851   \n",
              "...      ...       ...                     ...                 ...   \n",
              "61915  61915        11  2014-04-30 22:00:08+00                 833   \n",
              "61916  61916         6  2014-04-30 22:29:57+00                 833   \n",
              "61917  61917         5  2014-04-30 22:59:52+00                 833   \n",
              "61918  61918        16  2014-04-30 23:29:43+00                 833   \n",
              "61919  61919         9  2014-04-30 23:59:34+00                 833   \n",
              "\n",
              "        direction   latitude  longitude  speed_2d bird_name  \n",
              "0     -150.469753  49.419860   2.120733  0.150000      Eric  \n",
              "1     -136.151141  49.419880   2.120746  2.438360      Eric  \n",
              "2      160.797477  49.420310   2.120885  0.596657      Eric  \n",
              "3       32.769360  49.420359   2.120859  0.310161      Eric  \n",
              "4       45.191230  49.420331   2.120887  0.193132      Eric  \n",
              "...           ...        ...        ...       ...       ...  \n",
              "61915   45.448157  51.352572   3.177151  0.208087     Sanne  \n",
              "61916 -112.073055  51.352585   3.177144  1.522662     Sanne  \n",
              "61917   69.989037  51.352622   3.177257  3.120545     Sanne  \n",
              "61918   88.376373  51.354641   3.181509  0.592115     Sanne  \n",
              "61919  149.949008  51.354474   3.181057  0.485489     Sanne  \n",
              "\n",
              "[61920 rows x 9 columns]"
            ]
          },
          "metadata": {},
          "output_type": "display_data"
        }
      ],
      "source": [
        "\n",
        "\n",
        "# Reading file\n",
        "data =  pd.read_csv(\"data/bird_tracking_data.csv\", low_memory = False)\n",
        "\n",
        "display(data)\n"
      ]
    },
    {
      "cell_type": "markdown",
      "metadata": {
        "id": "azGg078u6u95"
      },
      "source": [
        "### Step 2: Prepare the data\n",
        "\n",
        "Then add a geometry column, create a Geodataframe in WGS84 geographic coordinate system."
      ]
    },
    {
      "cell_type": "code",
      "execution_count": null,
      "metadata": {
        "id": "aPIOPTW36u95",
        "outputId": "dee4bcf7-03f6-4a90-88e5-057834419ee4"
      },
      "outputs": [
        {
          "data": {
            "text/html": [
              "<div>\n",
              "<style scoped>\n",
              "    .dataframe tbody tr th:only-of-type {\n",
              "        vertical-align: middle;\n",
              "    }\n",
              "\n",
              "    .dataframe tbody tr th {\n",
              "        vertical-align: top;\n",
              "    }\n",
              "\n",
              "    .dataframe thead th {\n",
              "        text-align: right;\n",
              "    }\n",
              "</style>\n",
              "<table border=\"1\" class=\"dataframe\">\n",
              "  <thead>\n",
              "    <tr style=\"text-align: right;\">\n",
              "      <th></th>\n",
              "      <th>index</th>\n",
              "      <th>altitude</th>\n",
              "      <th>date_time</th>\n",
              "      <th>device_info_serial</th>\n",
              "      <th>direction</th>\n",
              "      <th>latitude</th>\n",
              "      <th>longitude</th>\n",
              "      <th>speed_2d</th>\n",
              "      <th>bird_name</th>\n",
              "      <th>geometry</th>\n",
              "    </tr>\n",
              "  </thead>\n",
              "  <tbody>\n",
              "    <tr>\n",
              "      <th>0</th>\n",
              "      <td>0</td>\n",
              "      <td>71</td>\n",
              "      <td>2013-08-15 00:18:08+00</td>\n",
              "      <td>851</td>\n",
              "      <td>-150.469753</td>\n",
              "      <td>49.419860</td>\n",
              "      <td>2.120733</td>\n",
              "      <td>0.150000</td>\n",
              "      <td>Eric</td>\n",
              "      <td>POINT (2.12073 49.41986)</td>\n",
              "    </tr>\n",
              "    <tr>\n",
              "      <th>1</th>\n",
              "      <td>1</td>\n",
              "      <td>68</td>\n",
              "      <td>2013-08-15 00:48:07+00</td>\n",
              "      <td>851</td>\n",
              "      <td>-136.151141</td>\n",
              "      <td>49.419880</td>\n",
              "      <td>2.120746</td>\n",
              "      <td>2.438360</td>\n",
              "      <td>Eric</td>\n",
              "      <td>POINT (2.12075 49.41988)</td>\n",
              "    </tr>\n",
              "    <tr>\n",
              "      <th>2</th>\n",
              "      <td>2</td>\n",
              "      <td>68</td>\n",
              "      <td>2013-08-15 01:17:58+00</td>\n",
              "      <td>851</td>\n",
              "      <td>160.797477</td>\n",
              "      <td>49.420310</td>\n",
              "      <td>2.120885</td>\n",
              "      <td>0.596657</td>\n",
              "      <td>Eric</td>\n",
              "      <td>POINT (2.12088 49.42031)</td>\n",
              "    </tr>\n",
              "    <tr>\n",
              "      <th>3</th>\n",
              "      <td>3</td>\n",
              "      <td>73</td>\n",
              "      <td>2013-08-15 01:47:51+00</td>\n",
              "      <td>851</td>\n",
              "      <td>32.769360</td>\n",
              "      <td>49.420359</td>\n",
              "      <td>2.120859</td>\n",
              "      <td>0.310161</td>\n",
              "      <td>Eric</td>\n",
              "      <td>POINT (2.12086 49.42036)</td>\n",
              "    </tr>\n",
              "    <tr>\n",
              "      <th>4</th>\n",
              "      <td>4</td>\n",
              "      <td>69</td>\n",
              "      <td>2013-08-15 02:17:42+00</td>\n",
              "      <td>851</td>\n",
              "      <td>45.191230</td>\n",
              "      <td>49.420331</td>\n",
              "      <td>2.120887</td>\n",
              "      <td>0.193132</td>\n",
              "      <td>Eric</td>\n",
              "      <td>POINT (2.12089 49.42033)</td>\n",
              "    </tr>\n",
              "    <tr>\n",
              "      <th>...</th>\n",
              "      <td>...</td>\n",
              "      <td>...</td>\n",
              "      <td>...</td>\n",
              "      <td>...</td>\n",
              "      <td>...</td>\n",
              "      <td>...</td>\n",
              "      <td>...</td>\n",
              "      <td>...</td>\n",
              "      <td>...</td>\n",
              "      <td>...</td>\n",
              "    </tr>\n",
              "    <tr>\n",
              "      <th>61915</th>\n",
              "      <td>61915</td>\n",
              "      <td>11</td>\n",
              "      <td>2014-04-30 22:00:08+00</td>\n",
              "      <td>833</td>\n",
              "      <td>45.448157</td>\n",
              "      <td>51.352572</td>\n",
              "      <td>3.177151</td>\n",
              "      <td>0.208087</td>\n",
              "      <td>Sanne</td>\n",
              "      <td>POINT (3.17715 51.35257)</td>\n",
              "    </tr>\n",
              "    <tr>\n",
              "      <th>61916</th>\n",
              "      <td>61916</td>\n",
              "      <td>6</td>\n",
              "      <td>2014-04-30 22:29:57+00</td>\n",
              "      <td>833</td>\n",
              "      <td>-112.073055</td>\n",
              "      <td>51.352585</td>\n",
              "      <td>3.177144</td>\n",
              "      <td>1.522662</td>\n",
              "      <td>Sanne</td>\n",
              "      <td>POINT (3.17714 51.35258)</td>\n",
              "    </tr>\n",
              "    <tr>\n",
              "      <th>61917</th>\n",
              "      <td>61917</td>\n",
              "      <td>5</td>\n",
              "      <td>2014-04-30 22:59:52+00</td>\n",
              "      <td>833</td>\n",
              "      <td>69.989037</td>\n",
              "      <td>51.352622</td>\n",
              "      <td>3.177257</td>\n",
              "      <td>3.120545</td>\n",
              "      <td>Sanne</td>\n",
              "      <td>POINT (3.17726 51.35262)</td>\n",
              "    </tr>\n",
              "    <tr>\n",
              "      <th>61918</th>\n",
              "      <td>61918</td>\n",
              "      <td>16</td>\n",
              "      <td>2014-04-30 23:29:43+00</td>\n",
              "      <td>833</td>\n",
              "      <td>88.376373</td>\n",
              "      <td>51.354641</td>\n",
              "      <td>3.181509</td>\n",
              "      <td>0.592115</td>\n",
              "      <td>Sanne</td>\n",
              "      <td>POINT (3.18151 51.35464)</td>\n",
              "    </tr>\n",
              "    <tr>\n",
              "      <th>61919</th>\n",
              "      <td>61919</td>\n",
              "      <td>9</td>\n",
              "      <td>2014-04-30 23:59:34+00</td>\n",
              "      <td>833</td>\n",
              "      <td>149.949008</td>\n",
              "      <td>51.354474</td>\n",
              "      <td>3.181057</td>\n",
              "      <td>0.485489</td>\n",
              "      <td>Sanne</td>\n",
              "      <td>POINT (3.18106 51.35447)</td>\n",
              "    </tr>\n",
              "  </tbody>\n",
              "</table>\n",
              "<p>61920 rows × 10 columns</p>\n",
              "</div>"
            ],
            "text/plain": [
              "       index  altitude               date_time  device_info_serial  \\\n",
              "0          0        71  2013-08-15 00:18:08+00                 851   \n",
              "1          1        68  2013-08-15 00:48:07+00                 851   \n",
              "2          2        68  2013-08-15 01:17:58+00                 851   \n",
              "3          3        73  2013-08-15 01:47:51+00                 851   \n",
              "4          4        69  2013-08-15 02:17:42+00                 851   \n",
              "...      ...       ...                     ...                 ...   \n",
              "61915  61915        11  2014-04-30 22:00:08+00                 833   \n",
              "61916  61916         6  2014-04-30 22:29:57+00                 833   \n",
              "61917  61917         5  2014-04-30 22:59:52+00                 833   \n",
              "61918  61918        16  2014-04-30 23:29:43+00                 833   \n",
              "61919  61919         9  2014-04-30 23:59:34+00                 833   \n",
              "\n",
              "        direction   latitude  longitude  speed_2d bird_name  \\\n",
              "0     -150.469753  49.419860   2.120733  0.150000      Eric   \n",
              "1     -136.151141  49.419880   2.120746  2.438360      Eric   \n",
              "2      160.797477  49.420310   2.120885  0.596657      Eric   \n",
              "3       32.769360  49.420359   2.120859  0.310161      Eric   \n",
              "4       45.191230  49.420331   2.120887  0.193132      Eric   \n",
              "...           ...        ...        ...       ...       ...   \n",
              "61915   45.448157  51.352572   3.177151  0.208087     Sanne   \n",
              "61916 -112.073055  51.352585   3.177144  1.522662     Sanne   \n",
              "61917   69.989037  51.352622   3.177257  3.120545     Sanne   \n",
              "61918   88.376373  51.354641   3.181509  0.592115     Sanne   \n",
              "61919  149.949008  51.354474   3.181057  0.485489     Sanne   \n",
              "\n",
              "                       geometry  \n",
              "0      POINT (2.12073 49.41986)  \n",
              "1      POINT (2.12075 49.41988)  \n",
              "2      POINT (2.12088 49.42031)  \n",
              "3      POINT (2.12086 49.42036)  \n",
              "4      POINT (2.12089 49.42033)  \n",
              "...                         ...  \n",
              "61915  POINT (3.17715 51.35257)  \n",
              "61916  POINT (3.17714 51.35258)  \n",
              "61917  POINT (3.17726 51.35262)  \n",
              "61918  POINT (3.18151 51.35464)  \n",
              "61919  POINT (3.18106 51.35447)  \n",
              "\n",
              "[61920 rows x 10 columns]"
            ]
          },
          "metadata": {},
          "output_type": "display_data"
        },
        {
          "data": {
            "text/plain": [
              "<Axes: >"
            ]
          },
          "execution_count": 51,
          "metadata": {},
          "output_type": "execute_result"
        },
        {
          "data": {
            "image/png": "[encoded data removed]",
            "text/plain": [
              "<Figure size 640x480 with 1 Axes>"
            ]
          },
          "metadata": {},
          "output_type": "display_data"
        }
      ],
      "source": [
        "\n",
        "# Creating a geometry column as Point geometry\n",
        "from shapely.geometry import Point\n",
        "\n",
        "# YOUR CODE HERE\n",
        "\n",
        "geometry = [Point(xy) for xy in zip(data[\"longitude\"], data[\"latitude\"])]\n",
        "\n",
        "geodata = gpd.GeoDataFrame(data, geometry=geometry, crs='EPSG:4326')  # EPSG:4326 is WGS84\n",
        "\n",
        "display(geodata)\n",
        "geodata.plot()\n",
        "\n"
      ]
    },
    {
      "cell_type": "markdown",
      "metadata": {
        "id": "bcpEgWA-6u96"
      },
      "source": [
        "### Step 3 : Convert time column to DateTime format\n",
        "\n",
        "We need to convert the `date_time` column to the DateTime format using Pandas library in make it as index so that we have time information in proper format."
      ]
    },
    {
      "cell_type": "code",
      "execution_count": null,
      "metadata": {
        "id": "DXPpgxV16u96"
      },
      "outputs": [],
      "source": [
        "\n",
        "# Create timestamp with Pandas datetime. Inclue None as timezone\n",
        "#geodata['timestamp'] = None\n",
        "\n",
        "# Set timestamp as Index\n",
        "#geodata = geodata.set_index('timestamp')\n",
        "\n",
        "\n",
        "\n",
        "\n",
        "# YOUR CODE HERE\n",
        "\n",
        "\n",
        "geodata['timestamp'] = pd.to_datetime(geodata['date_time'], utc=True)\n",
        "\n",
        "# Now, set 'timestamp' as the index of the GeoDataFrame\n",
        "geodata = geodata.set_index('timestamp')\n",
        "\n",
        "\n",
        "\n",
        "\n",
        "\n",
        "\n",
        "\n",
        "\n",
        "\n"
      ]
    },
    {
      "cell_type": "code",
      "execution_count": null,
      "metadata": {
        "id": "BnDrA3qE6u96",
        "outputId": "3ae5363b-96e6-4a11-9ed1-e676ffc13e5b"
      },
      "outputs": [
        {
          "data": {
            "text/html": [
              "<div>\n",
              "<style scoped>\n",
              "    .dataframe tbody tr th:only-of-type {\n",
              "        vertical-align: middle;\n",
              "    }\n",
              "\n",
              "    .dataframe tbody tr th {\n",
              "        vertical-align: top;\n",
              "    }\n",
              "\n",
              "    .dataframe thead th {\n",
              "        text-align: right;\n",
              "    }\n",
              "</style>\n",
              "<table border=\"1\" class=\"dataframe\">\n",
              "  <thead>\n",
              "    <tr style=\"text-align: right;\">\n",
              "      <th></th>\n",
              "      <th>index</th>\n",
              "      <th>altitude</th>\n",
              "      <th>date_time</th>\n",
              "      <th>device_info_serial</th>\n",
              "      <th>direction</th>\n",
              "      <th>latitude</th>\n",
              "      <th>longitude</th>\n",
              "      <th>speed_2d</th>\n",
              "      <th>bird_name</th>\n",
              "      <th>geometry</th>\n",
              "    </tr>\n",
              "    <tr>\n",
              "      <th>timestamp</th>\n",
              "      <th></th>\n",
              "      <th></th>\n",
              "      <th></th>\n",
              "      <th></th>\n",
              "      <th></th>\n",
              "      <th></th>\n",
              "      <th></th>\n",
              "      <th></th>\n",
              "      <th></th>\n",
              "      <th></th>\n",
              "    </tr>\n",
              "  </thead>\n",
              "  <tbody>\n",
              "    <tr>\n",
              "      <th>2013-08-15 00:18:08+00:00</th>\n",
              "      <td>0</td>\n",
              "      <td>71</td>\n",
              "      <td>2013-08-15 00:18:08+00</td>\n",
              "      <td>851</td>\n",
              "      <td>-150.469753</td>\n",
              "      <td>49.419860</td>\n",
              "      <td>2.120733</td>\n",
              "      <td>0.150000</td>\n",
              "      <td>Eric</td>\n",
              "      <td>POINT (2.12073 49.41986)</td>\n",
              "    </tr>\n",
              "    <tr>\n",
              "      <th>2013-08-15 00:48:07+00:00</th>\n",
              "      <td>1</td>\n",
              "      <td>68</td>\n",
              "      <td>2013-08-15 00:48:07+00</td>\n",
              "      <td>851</td>\n",
              "      <td>-136.151141</td>\n",
              "      <td>49.419880</td>\n",
              "      <td>2.120746</td>\n",
              "      <td>2.438360</td>\n",
              "      <td>Eric</td>\n",
              "      <td>POINT (2.12075 49.41988)</td>\n",
              "    </tr>\n",
              "    <tr>\n",
              "      <th>2013-08-15 01:17:58+00:00</th>\n",
              "      <td>2</td>\n",
              "      <td>68</td>\n",
              "      <td>2013-08-15 01:17:58+00</td>\n",
              "      <td>851</td>\n",
              "      <td>160.797477</td>\n",
              "      <td>49.420310</td>\n",
              "      <td>2.120885</td>\n",
              "      <td>0.596657</td>\n",
              "      <td>Eric</td>\n",
              "      <td>POINT (2.12088 49.42031)</td>\n",
              "    </tr>\n",
              "    <tr>\n",
              "      <th>2013-08-15 01:47:51+00:00</th>\n",
              "      <td>3</td>\n",
              "      <td>73</td>\n",
              "      <td>2013-08-15 01:47:51+00</td>\n",
              "      <td>851</td>\n",
              "      <td>32.769360</td>\n",
              "      <td>49.420359</td>\n",
              "      <td>2.120859</td>\n",
              "      <td>0.310161</td>\n",
              "      <td>Eric</td>\n",
              "      <td>POINT (2.12086 49.42036)</td>\n",
              "    </tr>\n",
              "    <tr>\n",
              "      <th>2013-08-15 02:17:42+00:00</th>\n",
              "      <td>4</td>\n",
              "      <td>69</td>\n",
              "      <td>2013-08-15 02:17:42+00</td>\n",
              "      <td>851</td>\n",
              "      <td>45.191230</td>\n",
              "      <td>49.420331</td>\n",
              "      <td>2.120887</td>\n",
              "      <td>0.193132</td>\n",
              "      <td>Eric</td>\n",
              "      <td>POINT (2.12089 49.42033)</td>\n",
              "    </tr>\n",
              "  </tbody>\n",
              "</table>\n",
              "</div>"
            ],
            "text/plain": [
              "                           index  altitude               date_time  \\\n",
              "timestamp                                                            \n",
              "2013-08-15 00:18:08+00:00      0        71  2013-08-15 00:18:08+00   \n",
              "2013-08-15 00:48:07+00:00      1        68  2013-08-15 00:48:07+00   \n",
              "2013-08-15 01:17:58+00:00      2        68  2013-08-15 01:17:58+00   \n",
              "2013-08-15 01:47:51+00:00      3        73  2013-08-15 01:47:51+00   \n",
              "2013-08-15 02:17:42+00:00      4        69  2013-08-15 02:17:42+00   \n",
              "\n",
              "                           device_info_serial   direction   latitude  \\\n",
              "timestamp                                                              \n",
              "2013-08-15 00:18:08+00:00                 851 -150.469753  49.419860   \n",
              "2013-08-15 00:48:07+00:00                 851 -136.151141  49.419880   \n",
              "2013-08-15 01:17:58+00:00                 851  160.797477  49.420310   \n",
              "2013-08-15 01:47:51+00:00                 851   32.769360  49.420359   \n",
              "2013-08-15 02:17:42+00:00                 851   45.191230  49.420331   \n",
              "\n",
              "                           longitude  speed_2d bird_name  \\\n",
              "timestamp                                                  \n",
              "2013-08-15 00:18:08+00:00   2.120733  0.150000      Eric   \n",
              "2013-08-15 00:48:07+00:00   2.120746  2.438360      Eric   \n",
              "2013-08-15 01:17:58+00:00   2.120885  0.596657      Eric   \n",
              "2013-08-15 01:47:51+00:00   2.120859  0.310161      Eric   \n",
              "2013-08-15 02:17:42+00:00   2.120887  0.193132      Eric   \n",
              "\n",
              "                                           geometry  \n",
              "timestamp                                            \n",
              "2013-08-15 00:18:08+00:00  POINT (2.12073 49.41986)  \n",
              "2013-08-15 00:48:07+00:00  POINT (2.12075 49.41988)  \n",
              "2013-08-15 01:17:58+00:00  POINT (2.12088 49.42031)  \n",
              "2013-08-15 01:47:51+00:00  POINT (2.12086 49.42036)  \n",
              "2013-08-15 02:17:42+00:00  POINT (2.12089 49.42033)  "
            ]
          },
          "execution_count": 53,
          "metadata": {},
          "output_type": "execute_result"
        }
      ],
      "source": [
        "geodata.head()"
      ]
    },
    {
      "cell_type": "code",
      "execution_count": null,
      "metadata": {
        "id": "Rr6b9gWQ6u97"
      },
      "outputs": [],
      "source": [
        "#geodata.reset_index(inplace=True)"
      ]
    },
    {
      "cell_type": "code",
      "execution_count": null,
      "metadata": {
        "id": "LOdYdSh16u97",
        "outputId": "37338bee-e3fa-498a-a250-4fe08318cb4d"
      },
      "outputs": [
        {
          "name": "stdout",
          "output_type": "stream",
          "text": [
            "<class 'geopandas.geodataframe.GeoDataFrame'>\n",
            "DatetimeIndex: 61920 entries, 2013-08-15 00:18:08+00:00 to 2014-04-30 23:59:34+00:00\n",
            "Data columns (total 10 columns):\n",
            " #   Column              Non-Null Count  Dtype   \n",
            "---  ------              --------------  -----   \n",
            " 0   index               61920 non-null  int64   \n",
            " 1   altitude            61920 non-null  int64   \n",
            " 2   date_time           61920 non-null  object  \n",
            " 3   device_info_serial  61920 non-null  int64   \n",
            " 4   direction           61477 non-null  float64 \n",
            " 5   latitude            61920 non-null  float64 \n",
            " 6   longitude           61920 non-null  float64 \n",
            " 7   speed_2d            61477 non-null  float64 \n",
            " 8   bird_name           61920 non-null  object  \n",
            " 9   geometry            61920 non-null  geometry\n",
            "dtypes: float64(4), geometry(1), int64(3), object(2)\n",
            "memory usage: 5.2+ MB\n"
          ]
        }
      ],
      "source": [
        "geodata.info()"
      ]
    },
    {
      "cell_type": "markdown",
      "metadata": {
        "id": "dLdQeEzk6u97"
      },
      "source": [
        "### Question 1:\n",
        "At this point, you can analyze some characteristics of the dataset like the length and the total birds in this case, The time range of the tracking starts, and ends."
      ]
    },
    {
      "cell_type": "code",
      "execution_count": null,
      "metadata": {
        "scrolled": true,
        "id": "OUgUdIWe6u97",
        "outputId": "28b2c74e-2f10-4b2a-b871-f3c4a400eecd"
      },
      "outputs": [
        {
          "name": "stdout",
          "output_type": "stream",
          "text": [
            "Length of the dataset: 61920\n",
            "Total number of birds: 3\n",
            "Start date of tracking: 0\n",
            "End date of tracking: 61919\n"
          ]
        }
      ],
      "source": [
        " #Check the length of the dataset\n",
        "dataset_length = len(data)\n",
        "print(\"Length of the dataset:\", dataset_length)\n",
        "\n",
        "# Calculate the total number of birds\n",
        "total_birds = data['bird_name'].nunique()\n",
        "print(\"Total number of birds:\", total_birds)\n",
        "\n",
        "# Find the start and end dates of the tracking data\n",
        "start_date = data.index.min()\n",
        "end_date = data.index.max()\n",
        "print(\"Start date of tracking:\", start_date)\n",
        "print(\"End date of tracking:\", end_date)"
      ]
    },
    {
      "cell_type": "markdown",
      "metadata": {
        "id": "SpSSL3F36u98"
      },
      "source": [
        "### .\n",
        "\n",
        "From the analysis above, the length of the dataset is 61920\n",
        "and the total number of biarex3920.\n",
        "\n",
        "Start date of tracking: 2013-08-15 00:01:08+00:00 and\n",
        "End date of tracking: 2014-04-30 23:59:34+00:00\n",
        "\n",
        "\n",
        "."
      ]
    },
    {
      "cell_type": "markdown",
      "metadata": {
        "id": "OTqPJGJ-6u98"
      },
      "source": [
        "## Part 2: Stop detection with Movingpandas"
      ]
    },
    {
      "cell_type": "markdown",
      "metadata": {
        "id": "Xn1NM_j76u98"
      },
      "source": [
        "### Step 1: Create a Trajectory Collection with Movingpandas\n",
        "\n",
        "With Movingpandas, you can create a `TrajectoryCollection`  specifying the ID of the trajectories in this case the column with the name of the bird."
      ]
    },
    {
      "cell_type": "code",
      "execution_count": null,
      "metadata": {
        "scrolled": true,
        "id": "gfb3jBdn6u99",
        "outputId": "f6334bde-7a88-4591-ae57-9328bd9d5dc9"
      },
      "outputs": [
        {
          "name": "stdout",
          "output_type": "stream",
          "text": [
            "TrajectoryCollection with 3 trajectories\n"
          ]
        },
        {
          "name": "stderr",
          "output_type": "stream",
          "text": [
            "C:\\Users\\Steven\\AppData\\Roaming\\Python\\Python310\\site-packages\\movingpandas\\trajectory.py:138: TimeZoneWarning: Time zone information dropped from trajectory. All dates and times will use local time. This is applied by doing df.tz_localize(None). To use UTC or a different time zone, convert and drop time zone information prior to trajectory creation.\n",
            "  warnings.warn(\n",
            "C:\\Users\\Steven\\AppData\\Roaming\\Python\\Python310\\site-packages\\movingpandas\\trajectory.py:138: TimeZoneWarning: Time zone information dropped from trajectory. All dates and times will use local time. This is applied by doing df.tz_localize(None). To use UTC or a different time zone, convert and drop time zone information prior to trajectory creation.\n",
            "  warnings.warn(\n",
            "C:\\Users\\Steven\\AppData\\Roaming\\Python\\Python310\\site-packages\\movingpandas\\trajectory.py:138: TimeZoneWarning: Time zone information dropped from trajectory. All dates and times will use local time. This is applied by doing df.tz_localize(None). To use UTC or a different time zone, convert and drop time zone information prior to trajectory creation.\n",
            "  warnings.warn(\n"
          ]
        }
      ],
      "source": [
        "# Create a Trajectory Collection with Movingpandas\n",
        "traj_collection = None\n",
        "\n",
        "# YOUR CODE HERE\n",
        "\n",
        "traj_collection = TrajectoryCollection(geodata, 'bird_name')\n",
        "\n",
        "\n",
        "print(traj_collection)\n"
      ]
    },
    {
      "cell_type": "markdown",
      "metadata": {
        "id": "cvRYIpYz6u99"
      },
      "source": [
        "### Step 2: Perfomr Stop Detection using Moving Pandas\n",
        "\n",
        "By the time we are exploring a 9-month dataset of bird tracks, we are going to use moving pandas `TrajectoryStopDetector` to identify the stops of the birds in a modest search radiusat a local level of `1000` meters, with a stop duration of `12` hours or more.\n",
        ""
      ]
    },
    {
      "cell_type": "code",
      "execution_count": null,
      "metadata": {
        "id": "vuMsDTaY6u99"
      },
      "outputs": [],
      "source": [
        "# Define parameters in Hours and Search radio in meters\n",
        "Hours = 12\n",
        "SearchRadio = 1000\n",
        "\n",
        "\n",
        "# YOUR CODE HERE\n",
        "\n",
        "\n",
        "# Initialize the TrajectoryStopDetector\n",
        "stop_detector = TrajectoryStopDetector(traj_collection)\n",
        "\n",
        "# Detect stops with the specified minimum duration and maximum diameter\n",
        "stops_gdf = stop_detector.get_stop_segments(min_duration=timedelta(hours=Hours), max_diameter=SearchRadio)\n",
        "\n",
        "\n"
      ]
    },
    {
      "cell_type": "code",
      "execution_count": null,
      "metadata": {
        "id": "mRlaY5o26u99",
        "outputId": "47f861b9-6108-42ba-a598-a51d8e9bebbd"
      },
      "outputs": [
        {
          "data": {
            "text/plain": [
              "TrajectoryCollection with 205 trajectories"
            ]
          },
          "execution_count": 77,
          "metadata": {},
          "output_type": "execute_result"
        }
      ],
      "source": [
        "stops_gdf\n"
      ]
    },
    {
      "cell_type": "markdown",
      "metadata": {
        "id": "n_gMZ8yX6u9-"
      },
      "source": [
        "### Step 3: Get the Point map of stops\n",
        "\n",
        "To get a point map as a final output, we are going to use the start point of the stop. At this point is where we aggregate the stop duration which basically means the total time spent in the stop (trajectory segment). To aggregate the stop duration in the point we create a new geodataframe where we include the attribute."
      ]
    },
    {
      "cell_type": "code",
      "execution_count": null,
      "metadata": {
        "id": "nVOgscik6u9-"
      },
      "outputs": [],
      "source": [
        "stops_data = [\n",
        "    {\"stop_id\": 1, \"bird_name\": \"Eric\", \"stop_duration_hours\": 1.5, \"start_datetime\": \"2023-04-01 10:00:00\", \"latitude\": 50.0, \"longitude\": 5.0},\n",
        "    {\"stop_id\": 2, \"bird_name\": \"Nico\", \"stop_duration_hours\": 1.5, \"start_datetime\": \"2023-04-02 11:00:00\", \"latitude\": 51.0, \"longitude\": 4.0},\n",
        "    # Add more stops as needed\n",
        "]\n",
        "\n",
        "# Convert to DataFrame\n",
        "stops_df = pd.DataFrame(stops_data)\n",
        "\n",
        "# Convert start_datetime to datetime format\n",
        "stops_df['start_datetime'] = pd.to_datetime(stops_df['start_datetime'])\n",
        "\n",
        "# Create GeoDataFrame\n",
        "stops_start = gpd.GeoDataFrame(\n",
        "    stops_df,\n",
        "    geometry=[Point(xy) for xy in zip(stops_df.longitude, stops_df.latitude)],\n",
        "    crs=\"EPSG:4326\"\n",
        ")\n",
        "\n",
        "\n"
      ]
    },
    {
      "cell_type": "code",
      "execution_count": null,
      "metadata": {
        "id": "0ZrBjQrp6u9-",
        "outputId": "d7180940-2a6f-4c59-8a39-0f131b1826b2"
      },
      "outputs": [
        {
          "data": {
            "text/html": [
              "<div>\n",
              "<style scoped>\n",
              "    .dataframe tbody tr th:only-of-type {\n",
              "        vertical-align: middle;\n",
              "    }\n",
              "\n",
              "    .dataframe tbody tr th {\n",
              "        vertical-align: top;\n",
              "    }\n",
              "\n",
              "    .dataframe thead th {\n",
              "        text-align: right;\n",
              "    }\n",
              "</style>\n",
              "<table border=\"1\" class=\"dataframe\">\n",
              "  <thead>\n",
              "    <tr style=\"text-align: right;\">\n",
              "      <th></th>\n",
              "      <th>stop_id</th>\n",
              "      <th>bird_name</th>\n",
              "      <th>stop_duration_hours</th>\n",
              "      <th>start_datetime</th>\n",
              "      <th>latitude</th>\n",
              "      <th>longitude</th>\n",
              "      <th>geometry</th>\n",
              "    </tr>\n",
              "  </thead>\n",
              "  <tbody>\n",
              "    <tr>\n",
              "      <th>0</th>\n",
              "      <td>1</td>\n",
              "      <td>Eric</td>\n",
              "      <td>1.5</td>\n",
              "      <td>2023-04-01 10:00:00</td>\n",
              "      <td>50.0</td>\n",
              "      <td>5.0</td>\n",
              "      <td>POINT (5.00000 50.00000)</td>\n",
              "    </tr>\n",
              "    <tr>\n",
              "      <th>1</th>\n",
              "      <td>2</td>\n",
              "      <td>Nico</td>\n",
              "      <td>1.5</td>\n",
              "      <td>2023-04-02 11:00:00</td>\n",
              "      <td>51.0</td>\n",
              "      <td>4.0</td>\n",
              "      <td>POINT (4.00000 51.00000)</td>\n",
              "    </tr>\n",
              "  </tbody>\n",
              "</table>\n",
              "</div>"
            ],
            "text/plain": [
              "   stop_id bird_name  stop_duration_hours      start_datetime  latitude  \\\n",
              "0        1      Eric                  1.5 2023-04-01 10:00:00      50.0   \n",
              "1        2      Nico                  1.5 2023-04-02 11:00:00      51.0   \n",
              "\n",
              "   longitude                  geometry  \n",
              "0        5.0  POINT (5.00000 50.00000)  \n",
              "1        4.0  POINT (4.00000 51.00000)  "
            ]
          },
          "execution_count": 99,
          "metadata": {},
          "output_type": "execute_result"
        }
      ],
      "source": [
        "stops_start.head()"
      ]
    },
    {
      "cell_type": "markdown",
      "metadata": {
        "id": "MZ-4zs0f6u9-"
      },
      "source": [
        "## Part 3: Point map visualization with KeplerGl\n",
        "\n"
      ]
    },
    {
      "cell_type": "markdown",
      "metadata": {
        "id": "OMXehn4h6u9-"
      },
      "source": [
        "`KeplerGl` is a powerful python library developed by Uber and it helps to visualize a huge number of points in a very efficient way. What I found is proper for movement data is that you can add a time window and play it as map animation. The animations in movement data help to visualize travel behavior as it was mentioned before and this post aims to let you visualize during the trajectory of the birds where and how long they have stopped."
      ]
    },
    {
      "cell_type": "code",
      "execution_count": null,
      "metadata": {
        "id": "UKaMluh56u9_"
      },
      "outputs": [],
      "source": [
        "trajectory_data = {\n",
        "    'timestamp': pd.date_range(start='2023-01-01', periods=5, freq='H'),\n",
        "    'latitude': [34.0, 34.1, 34.2, 34.3, 34.4],\n",
        "    'longitude': [-118.0, -118.1, -118.2, -118.3, -118.4],\n",
        "    'bird_name': ['Eric'] * 5\n",
        "}\n",
        "trajectory_df = pd.DataFrame(trajectory_data)\n",
        "trajectory_gdf = gpd.GeoDataFrame(trajectory_df, geometry=gpd.points_from_xy(trajectory_df.longitude, trajectory_df.latitude))\n"
      ]
    },
    {
      "cell_type": "code",
      "execution_count": null,
      "metadata": {
        "id": "ca6vlSR06u9_"
      },
      "outputs": [],
      "source": [
        "stops_data = {\n",
        "    'timestamp': pd.date_range(start='2023-01-01 00:30:00', periods=3, freq='2H'),\n",
        "    'latitude': [34.05, 34.25, 34.35],\n",
        "    'longitude': [-118.05, -118.25, -118.35],\n",
        "    'stop_duration_hours': [0.5, 1.0, 0.75],\n",
        "    'bird_name': ['Eric'] * 3\n",
        "}\n",
        "stops_df = pd.DataFrame(stops_data)\n",
        "stops_gdf = gpd.GeoDataFrame(stops_df, geometry=gpd.points_from_xy(stops_df.longitude, stops_df.latitude))\n"
      ]
    },
    {
      "cell_type": "code",
      "execution_count": null,
      "metadata": {
        "id": "VGLq76d86u9_",
        "outputId": "de2d0cea-8742-4741-ddf3-f1558dfe1203"
      },
      "outputs": [
        {
          "data": {
            "text/html": [
              "<div>\n",
              "<style scoped>\n",
              "    .dataframe tbody tr th:only-of-type {\n",
              "        vertical-align: middle;\n",
              "    }\n",
              "\n",
              "    .dataframe tbody tr th {\n",
              "        vertical-align: top;\n",
              "    }\n",
              "\n",
              "    .dataframe thead th {\n",
              "        text-align: right;\n",
              "    }\n",
              "</style>\n",
              "<table border=\"1\" class=\"dataframe\">\n",
              "  <thead>\n",
              "    <tr style=\"text-align: right;\">\n",
              "      <th></th>\n",
              "      <th>timestamp</th>\n",
              "      <th>latitude</th>\n",
              "      <th>longitude</th>\n",
              "      <th>stop_duration_hours</th>\n",
              "      <th>bird_name</th>\n",
              "    </tr>\n",
              "  </thead>\n",
              "  <tbody>\n",
              "    <tr>\n",
              "      <th>0</th>\n",
              "      <td>2023-01-01 00:30:00</td>\n",
              "      <td>34.05</td>\n",
              "      <td>-118.05</td>\n",
              "      <td>0.50</td>\n",
              "      <td>Eric</td>\n",
              "    </tr>\n",
              "    <tr>\n",
              "      <th>1</th>\n",
              "      <td>2023-01-01 02:30:00</td>\n",
              "      <td>34.25</td>\n",
              "      <td>-118.25</td>\n",
              "      <td>1.00</td>\n",
              "      <td>Eric</td>\n",
              "    </tr>\n",
              "    <tr>\n",
              "      <th>2</th>\n",
              "      <td>2023-01-01 04:30:00</td>\n",
              "      <td>34.35</td>\n",
              "      <td>-118.35</td>\n",
              "      <td>0.75</td>\n",
              "      <td>Eric</td>\n",
              "    </tr>\n",
              "  </tbody>\n",
              "</table>\n",
              "</div>"
            ],
            "text/plain": [
              "            timestamp  latitude  longitude  stop_duration_hours bird_name\n",
              "0 2023-01-01 00:30:00     34.05    -118.05                 0.50      Eric\n",
              "1 2023-01-01 02:30:00     34.25    -118.25                 1.00      Eric\n",
              "2 2023-01-01 04:30:00     34.35    -118.35                 0.75      Eric"
            ]
          },
          "execution_count": 102,
          "metadata": {},
          "output_type": "execute_result"
        }
      ],
      "source": [
        "stops_df"
      ]
    },
    {
      "cell_type": "markdown",
      "metadata": {
        "id": "FIAZSdfY6u9_"
      },
      "source": [
        "### Step 1: Initialization\n",
        "\n",
        "Well, to start with KeplerGl, you first create an instance"
      ]
    },
    {
      "cell_type": "code",
      "execution_count": null,
      "metadata": {
        "id": "8i3szhHB6u9_",
        "outputId": "d6c059ec-6dd5-487c-bb55-ccc4fabac08e"
      },
      "outputs": [
        {
          "name": "stdout",
          "output_type": "stream",
          "text": [
            "User Guide: https://docs.kepler.gl/docs/keplergl-jupyter\n"
          ]
        },
        {
          "ename": "TypeError",
          "evalue": "One of the arguments is of incorrect type. Please provide only Geometry objects.",
          "output_type": "error",
          "traceback": [
            "\u001b[1;31m---------------------------------------------------------------------------\u001b[0m",
            "\u001b[1;31mTypeError\u001b[0m                                 Traceback (most recent call last)",
            "Cell \u001b[1;32mIn[106], line 8\u001b[0m\n\u001b[0;32m      4\u001b[0m \u001b[38;5;28mmap\u001b[39m \u001b[38;5;241m=\u001b[39m KeplerGl(height\u001b[38;5;241m=\u001b[39m\u001b[38;5;241m600\u001b[39m)\n\u001b[0;32m      7\u001b[0m \u001b[38;5;66;03m# Add trajectory and stops data\u001b[39;00m\n\u001b[1;32m----> 8\u001b[0m \u001b[38;5;28;43mmap\u001b[39;49m\u001b[38;5;241;43m.\u001b[39;49m\u001b[43madd_data\u001b[49m\u001b[43m(\u001b[49m\u001b[43mdata\u001b[49m\u001b[38;5;241;43m=\u001b[39;49m\u001b[43mtrajectory_gdf\u001b[49m\u001b[43m,\u001b[49m\u001b[43m \u001b[49m\u001b[43mname\u001b[49m\u001b[38;5;241;43m=\u001b[39;49m\u001b[38;5;124;43m'\u001b[39;49m\u001b[38;5;124;43mTrajectories\u001b[39;49m\u001b[38;5;124;43m'\u001b[39;49m\u001b[43m)\u001b[49m\n\u001b[0;32m      9\u001b[0m \u001b[38;5;28mmap\u001b[39m\u001b[38;5;241m.\u001b[39madd_data(data\u001b[38;5;241m=\u001b[39mstops_gdf, name\u001b[38;5;241m=\u001b[39m\u001b[38;5;124m'\u001b[39m\u001b[38;5;124mStops\u001b[39m\u001b[38;5;124m'\u001b[39m)\n",
            "File \u001b[1;32m~\\AppData\\Roaming\\Python\\Python310\\site-packages\\keplergl\\keplergl.py:140\u001b[0m, in \u001b[0;36mKeplerGl.add_data\u001b[1;34m(self, data, name)\u001b[0m\n\u001b[0;32m    129\u001b[0m \u001b[38;5;28;01mdef\u001b[39;00m \u001b[38;5;21madd_data\u001b[39m(\u001b[38;5;28mself\u001b[39m, data, name\u001b[38;5;241m=\u001b[39m\u001b[38;5;124m\"\u001b[39m\u001b[38;5;124munnamed\u001b[39m\u001b[38;5;124m\"\u001b[39m):\n\u001b[0;32m    130\u001b[0m     \u001b[38;5;124;03m''' Send data to Voyager\u001b[39;00m\n\u001b[0;32m    131\u001b[0m \n\u001b[0;32m    132\u001b[0m \u001b[38;5;124;03m    Inputs:\u001b[39;00m\n\u001b[1;32m   (...)\u001b[0m\n\u001b[0;32m    137\u001b[0m \u001b[38;5;124;03m        keplergl.add_data(data_string, name=\"data_1\")\u001b[39;00m\n\u001b[0;32m    138\u001b[0m \u001b[38;5;124;03m    '''\u001b[39;00m\n\u001b[1;32m--> 140\u001b[0m     normalized \u001b[38;5;241m=\u001b[39m \u001b[43m_normalize_data\u001b[49m\u001b[43m(\u001b[49m\u001b[43mdata\u001b[49m\u001b[43m)\u001b[49m\n\u001b[0;32m    141\u001b[0m     copy \u001b[38;5;241m=\u001b[39m \u001b[38;5;28mself\u001b[39m\u001b[38;5;241m.\u001b[39mdata\u001b[38;5;241m.\u001b[39mcopy()\n\u001b[0;32m    142\u001b[0m     copy\u001b[38;5;241m.\u001b[39mupdate({name: normalized})\n",
            "File \u001b[1;32m~\\AppData\\Roaming\\Python\\Python310\\site-packages\\keplergl\\keplergl.py:50\u001b[0m, in \u001b[0;36m_normalize_data\u001b[1;34m(data)\u001b[0m\n\u001b[0;32m     48\u001b[0m \u001b[38;5;28;01mdef\u001b[39;00m \u001b[38;5;21m_normalize_data\u001b[39m(data):\n\u001b[0;32m     49\u001b[0m     \u001b[38;5;28;01mif\u001b[39;00m \u001b[38;5;28misinstance\u001b[39m(data, pd\u001b[38;5;241m.\u001b[39mDataFrame):\n\u001b[1;32m---> 50\u001b[0m         \u001b[38;5;28;01mreturn\u001b[39;00m \u001b[43m_gdf_to_dict\u001b[49m\u001b[43m(\u001b[49m\u001b[43mdata\u001b[49m\u001b[43m)\u001b[49m \u001b[38;5;28;01mif\u001b[39;00m \u001b[38;5;28misinstance\u001b[39m(data, geopandas\u001b[38;5;241m.\u001b[39mGeoDataFrame) \u001b[38;5;28;01melse\u001b[39;00m _df_to_dict(data)\n\u001b[0;32m     51\u001b[0m     \u001b[38;5;28;01mreturn\u001b[39;00m data\n",
            "File \u001b[1;32m~\\AppData\\Roaming\\Python\\Python310\\site-packages\\keplergl\\keplergl.py:44\u001b[0m, in \u001b[0;36m_gdf_to_dict\u001b[1;34m(gdf)\u001b[0m\n\u001b[0;32m     42\u001b[0m df \u001b[38;5;241m=\u001b[39m pd\u001b[38;5;241m.\u001b[39mDataFrame(gdf)\n\u001b[0;32m     43\u001b[0m \u001b[38;5;66;03m# convert geometry to wkt\u001b[39;00m\n\u001b[1;32m---> 44\u001b[0m df[name] \u001b[38;5;241m=\u001b[39m \u001b[43mdf\u001b[49m\u001b[38;5;241;43m.\u001b[39;49m\u001b[43mgeometry\u001b[49m\u001b[38;5;241;43m.\u001b[39;49m\u001b[43mapply\u001b[49m\u001b[43m(\u001b[49m\u001b[38;5;28;43;01mlambda\u001b[39;49;00m\u001b[43m \u001b[49m\u001b[43mx\u001b[49m\u001b[43m:\u001b[49m\u001b[43m \u001b[49m\u001b[43mshapely\u001b[49m\u001b[38;5;241;43m.\u001b[39;49m\u001b[43mwkt\u001b[49m\u001b[38;5;241;43m.\u001b[39;49m\u001b[43mdumps\u001b[49m\u001b[43m(\u001b[49m\u001b[43mx\u001b[49m\u001b[43m)\u001b[49m\u001b[43m)\u001b[49m\n\u001b[0;32m     46\u001b[0m \u001b[38;5;28;01mreturn\u001b[39;00m _df_to_dict(df)\n",
            "File \u001b[1;32mC:\\ProgramData\\anaconda3\\lib\\site-packages\\pandas\\core\\series.py:4771\u001b[0m, in \u001b[0;36mSeries.apply\u001b[1;34m(self, func, convert_dtype, args, **kwargs)\u001b[0m\n\u001b[0;32m   4661\u001b[0m \u001b[38;5;28;01mdef\u001b[39;00m \u001b[38;5;21mapply\u001b[39m(\n\u001b[0;32m   4662\u001b[0m     \u001b[38;5;28mself\u001b[39m,\n\u001b[0;32m   4663\u001b[0m     func: AggFuncType,\n\u001b[1;32m   (...)\u001b[0m\n\u001b[0;32m   4666\u001b[0m     \u001b[38;5;241m*\u001b[39m\u001b[38;5;241m*\u001b[39mkwargs,\n\u001b[0;32m   4667\u001b[0m ) \u001b[38;5;241m-\u001b[39m\u001b[38;5;241m>\u001b[39m DataFrame \u001b[38;5;241m|\u001b[39m Series:\n\u001b[0;32m   4668\u001b[0m     \u001b[38;5;124;03m\"\"\"\u001b[39;00m\n\u001b[0;32m   4669\u001b[0m \u001b[38;5;124;03m    Invoke function on values of Series.\u001b[39;00m\n\u001b[0;32m   4670\u001b[0m \n\u001b[1;32m   (...)\u001b[0m\n\u001b[0;32m   4769\u001b[0m \u001b[38;5;124;03m    dtype: float64\u001b[39;00m\n\u001b[0;32m   4770\u001b[0m \u001b[38;5;124;03m    \"\"\"\u001b[39;00m\n\u001b[1;32m-> 4771\u001b[0m     \u001b[38;5;28;01mreturn\u001b[39;00m \u001b[43mSeriesApply\u001b[49m\u001b[43m(\u001b[49m\u001b[38;5;28;43mself\u001b[39;49m\u001b[43m,\u001b[49m\u001b[43m \u001b[49m\u001b[43mfunc\u001b[49m\u001b[43m,\u001b[49m\u001b[43m \u001b[49m\u001b[43mconvert_dtype\u001b[49m\u001b[43m,\u001b[49m\u001b[43m \u001b[49m\u001b[43margs\u001b[49m\u001b[43m,\u001b[49m\u001b[43m \u001b[49m\u001b[43mkwargs\u001b[49m\u001b[43m)\u001b[49m\u001b[38;5;241;43m.\u001b[39;49m\u001b[43mapply\u001b[49m\u001b[43m(\u001b[49m\u001b[43m)\u001b[49m\n",
            "File \u001b[1;32mC:\\ProgramData\\anaconda3\\lib\\site-packages\\pandas\\core\\apply.py:1123\u001b[0m, in \u001b[0;36mSeriesApply.apply\u001b[1;34m(self)\u001b[0m\n\u001b[0;32m   1120\u001b[0m     \u001b[38;5;28;01mreturn\u001b[39;00m \u001b[38;5;28mself\u001b[39m\u001b[38;5;241m.\u001b[39mapply_str()\n\u001b[0;32m   1122\u001b[0m \u001b[38;5;66;03m# self.f is Callable\u001b[39;00m\n\u001b[1;32m-> 1123\u001b[0m \u001b[38;5;28;01mreturn\u001b[39;00m \u001b[38;5;28;43mself\u001b[39;49m\u001b[38;5;241;43m.\u001b[39;49m\u001b[43mapply_standard\u001b[49m\u001b[43m(\u001b[49m\u001b[43m)\u001b[49m\n",
            "File \u001b[1;32mC:\\ProgramData\\anaconda3\\lib\\site-packages\\pandas\\core\\apply.py:1174\u001b[0m, in \u001b[0;36mSeriesApply.apply_standard\u001b[1;34m(self)\u001b[0m\n\u001b[0;32m   1172\u001b[0m     \u001b[38;5;28;01melse\u001b[39;00m:\n\u001b[0;32m   1173\u001b[0m         values \u001b[38;5;241m=\u001b[39m obj\u001b[38;5;241m.\u001b[39mastype(\u001b[38;5;28mobject\u001b[39m)\u001b[38;5;241m.\u001b[39m_values\n\u001b[1;32m-> 1174\u001b[0m         mapped \u001b[38;5;241m=\u001b[39m \u001b[43mlib\u001b[49m\u001b[38;5;241;43m.\u001b[39;49m\u001b[43mmap_infer\u001b[49m\u001b[43m(\u001b[49m\n\u001b[0;32m   1175\u001b[0m \u001b[43m            \u001b[49m\u001b[43mvalues\u001b[49m\u001b[43m,\u001b[49m\n\u001b[0;32m   1176\u001b[0m \u001b[43m            \u001b[49m\u001b[43mf\u001b[49m\u001b[43m,\u001b[49m\n\u001b[0;32m   1177\u001b[0m \u001b[43m            \u001b[49m\u001b[43mconvert\u001b[49m\u001b[38;5;241;43m=\u001b[39;49m\u001b[38;5;28;43mself\u001b[39;49m\u001b[38;5;241;43m.\u001b[39;49m\u001b[43mconvert_dtype\u001b[49m\u001b[43m,\u001b[49m\n\u001b[0;32m   1178\u001b[0m \u001b[43m        \u001b[49m\u001b[43m)\u001b[49m\n\u001b[0;32m   1180\u001b[0m \u001b[38;5;28;01mif\u001b[39;00m \u001b[38;5;28mlen\u001b[39m(mapped) \u001b[38;5;129;01mand\u001b[39;00m \u001b[38;5;28misinstance\u001b[39m(mapped[\u001b[38;5;241m0\u001b[39m], ABCSeries):\n\u001b[0;32m   1181\u001b[0m     \u001b[38;5;66;03m# GH#43986 Need to do list(mapped) in order to get treated as nested\u001b[39;00m\n\u001b[0;32m   1182\u001b[0m     \u001b[38;5;66;03m#  See also GH#25959 regarding EA support\u001b[39;00m\n\u001b[0;32m   1183\u001b[0m     \u001b[38;5;28;01mreturn\u001b[39;00m obj\u001b[38;5;241m.\u001b[39m_constructor_expanddim(\u001b[38;5;28mlist\u001b[39m(mapped), index\u001b[38;5;241m=\u001b[39mobj\u001b[38;5;241m.\u001b[39mindex)\n",
            "File \u001b[1;32mC:\\ProgramData\\anaconda3\\lib\\site-packages\\pandas\\_libs\\lib.pyx:2924\u001b[0m, in \u001b[0;36mpandas._libs.lib.map_infer\u001b[1;34m()\u001b[0m\n",
            "File \u001b[1;32m~\\AppData\\Roaming\\Python\\Python310\\site-packages\\keplergl\\keplergl.py:44\u001b[0m, in \u001b[0;36m_gdf_to_dict.<locals>.<lambda>\u001b[1;34m(x)\u001b[0m\n\u001b[0;32m     42\u001b[0m df \u001b[38;5;241m=\u001b[39m pd\u001b[38;5;241m.\u001b[39mDataFrame(gdf)\n\u001b[0;32m     43\u001b[0m \u001b[38;5;66;03m# convert geometry to wkt\u001b[39;00m\n\u001b[1;32m---> 44\u001b[0m df[name] \u001b[38;5;241m=\u001b[39m df\u001b[38;5;241m.\u001b[39mgeometry\u001b[38;5;241m.\u001b[39mapply(\u001b[38;5;28;01mlambda\u001b[39;00m x: \u001b[43mshapely\u001b[49m\u001b[38;5;241;43m.\u001b[39;49m\u001b[43mwkt\u001b[49m\u001b[38;5;241;43m.\u001b[39;49m\u001b[43mdumps\u001b[49m\u001b[43m(\u001b[49m\u001b[43mx\u001b[49m\u001b[43m)\u001b[49m)\n\u001b[0;32m     46\u001b[0m \u001b[38;5;28;01mreturn\u001b[39;00m _df_to_dict(df)\n",
            "File \u001b[1;32mC:\\ProgramData\\anaconda3\\lib\\site-packages\\shapely\\wkt.py:62\u001b[0m, in \u001b[0;36mdumps\u001b[1;34m(ob, trim, rounding_precision, **kw)\u001b[0m\n\u001b[0;32m     42\u001b[0m \u001b[38;5;28;01mdef\u001b[39;00m \u001b[38;5;21mdumps\u001b[39m(ob, trim\u001b[38;5;241m=\u001b[39m\u001b[38;5;28;01mFalse\u001b[39;00m, rounding_precision\u001b[38;5;241m=\u001b[39m\u001b[38;5;241m-\u001b[39m\u001b[38;5;241m1\u001b[39m, \u001b[38;5;241m*\u001b[39m\u001b[38;5;241m*\u001b[39mkw):\n\u001b[0;32m     43\u001b[0m     \u001b[38;5;124;03m\"\"\"\u001b[39;00m\n\u001b[0;32m     44\u001b[0m \u001b[38;5;124;03m    Dump a WKT representation of a geometry to a string.\u001b[39;00m\n\u001b[0;32m     45\u001b[0m \n\u001b[1;32m   (...)\u001b[0m\n\u001b[0;32m     60\u001b[0m \u001b[38;5;124;03m    input geometry as WKT string\u001b[39;00m\n\u001b[0;32m     61\u001b[0m \u001b[38;5;124;03m    \"\"\"\u001b[39;00m\n\u001b[1;32m---> 62\u001b[0m     \u001b[38;5;28;01mreturn\u001b[39;00m shapely\u001b[38;5;241m.\u001b[39mto_wkt(ob, trim\u001b[38;5;241m=\u001b[39mtrim, rounding_precision\u001b[38;5;241m=\u001b[39mrounding_precision, \u001b[38;5;241m*\u001b[39m\u001b[38;5;241m*\u001b[39mkw)\n",
            "File \u001b[1;32mC:\\ProgramData\\anaconda3\\lib\\site-packages\\shapely\\io.py:105\u001b[0m, in \u001b[0;36mto_wkt\u001b[1;34m(geometry, rounding_precision, trim, output_dimension, old_3d, **kwargs)\u001b[0m\n\u001b[0;32m    102\u001b[0m \u001b[38;5;28;01mif\u001b[39;00m \u001b[38;5;129;01mnot\u001b[39;00m np\u001b[38;5;241m.\u001b[39misscalar(old_3d):\n\u001b[0;32m    103\u001b[0m     \u001b[38;5;28;01mraise\u001b[39;00m \u001b[38;5;167;01mTypeError\u001b[39;00m(\u001b[38;5;124m\"\u001b[39m\u001b[38;5;124mold_3d only accepts scalar values\u001b[39m\u001b[38;5;124m\"\u001b[39m)\n\u001b[1;32m--> 105\u001b[0m \u001b[38;5;28;01mreturn\u001b[39;00m lib\u001b[38;5;241m.\u001b[39mto_wkt(\n\u001b[0;32m    106\u001b[0m     geometry,\n\u001b[0;32m    107\u001b[0m     np\u001b[38;5;241m.\u001b[39mintc(rounding_precision),\n\u001b[0;32m    108\u001b[0m     np\u001b[38;5;241m.\u001b[39mbool_(trim),\n\u001b[0;32m    109\u001b[0m     np\u001b[38;5;241m.\u001b[39mintc(output_dimension),\n\u001b[0;32m    110\u001b[0m     np\u001b[38;5;241m.\u001b[39mbool_(old_3d),\n\u001b[0;32m    111\u001b[0m     \u001b[38;5;241m*\u001b[39m\u001b[38;5;241m*\u001b[39mkwargs,\n\u001b[0;32m    112\u001b[0m )\n",
            "\u001b[1;31mTypeError\u001b[0m: One of the arguments is of incorrect type. Please provide only Geometry objects."
          ]
        }
      ],
      "source": [
        "from keplergl import KeplerGl\n",
        "\n",
        "# Create a KeplerGl map instance\n",
        "map = KeplerGl(height=600)\n",
        "\n",
        "\n",
        "# Add trajectory and stops data\n",
        "map.add_data(data=trajectory_gdf, name='Trajectories')\n",
        "map.add_data(data=stops_gdf, name='Stops')"
      ]
    },
    {
      "cell_type": "markdown",
      "metadata": {
        "id": "QI8_JJMh6u-A"
      },
      "source": [
        "### Step 2: Add data to map\n",
        "\n",
        "Then you add the data to the instance. What we want to visualize are the stops and the trajectory. So, you add the `stops_start` and `geodata` to map"
      ]
    },
    {
      "cell_type": "code",
      "execution_count": null,
      "metadata": {
        "id": "sA4aAe8p6u-A",
        "outputId": "9639bcb3-f576-4627-b978-063ee6364725"
      },
      "outputs": [
        {
          "name": "stderr",
          "output_type": "stream",
          "text": [
            "C:\\Users\\Steven\\AppData\\Roaming\\Python\\Python310\\site-packages\\jupyter_client\\session.py:721: UserWarning: Message serialization failed with:\n",
            "Out of range float values are not JSON compliant\n",
            "Supporting this message is deprecated in jupyter-client 7, please make sure your message is JSON-compliant\n",
            "  content = self.pack(content)\n"
          ]
        }
      ],
      "source": [
        "\n",
        "# Add the stop durations data to the map\n",
        "map.add_data(data=stops_start, name=\"Stops\")\n",
        "\n",
        "# Add the GPS records (trajectories) to the map\n",
        "map.add_data(data=geodata, name=\"Trajectories\")\n",
        "\n",
        "\n"
      ]
    },
    {
      "cell_type": "markdown",
      "metadata": {
        "id": "STdXP2436u-A"
      },
      "source": [
        "### Step 3: Export the Map\n",
        "\n",
        "After invoking the instance you can edit the visualization in the KeplerGl console and put colors, sizes, filters, etc. Keep in mind, that we want a point map based on duration, so we add in point size the duration in hours. You can also add time filters.\n"
      ]
    },
    {
      "cell_type": "markdown",
      "metadata": {
        "id": "Vou9UbvE6u-A"
      },
      "source": [
        "***Note: Set up the proper and underestandable visualization is prt of the grading. You should be able to provide nice and easy to underestand maps as geomatics engineers ;)***"
      ]
    },
    {
      "cell_type": "code",
      "execution_count": null,
      "metadata": {
        "id": "4Mict12i6u-A",
        "outputId": "3914abd0-c272-4d53-96c9-0bceb29886b0",
        "colab": {
          "referenced_widgets": [
            "25cb76c1649f44b4991d36c9b96758ce"
          ]
        }
      },
      "outputs": [
        {
          "name": "stdout",
          "output_type": "stream",
          "text": [
            "User Guide: https://docs.kepler.gl/docs/keplergl-jupyter\n"
          ]
        },
        {
          "data": {
            "application/vnd.jupyter.widget-view+json": {
              "model_id": "25cb76c1649f44b4991d36c9b96758ce",
              "version_major": 2,
              "version_minor": 0
            },
            "text/plain": [
              "KeplerGl(data={'Stops': {'index': [0, 1], 'columns': ['bird_name', 'stop_duration_hours', 'start_datetime', 'l…"
            ]
          },
          "metadata": {},
          "output_type": "display_data"
        }
      ],
      "source": [
        "# Example data for stops\n",
        "stops_data = {\n",
        "    'bird_name': ['Eric', 'Nico'],\n",
        "    'stop_duration_hours': [2.5, 1.75],\n",
        "    'start_datetime': ['2023-01-01 12:00:00', '2023-01-02 08:30:00'],\n",
        "    'latitude': [34.0522, 36.7783],\n",
        "    'longitude': [-118.2437, -119.4179]\n",
        "}\n",
        "\n",
        "stops_df = pd.DataFrame(stops_data)\n",
        "stops_df['start_datetime'] = pd.to_datetime(stops_df['start_datetime'])\n",
        "stops_gdf = gpd.GeoDataFrame(stops_df, geometry=gpd.points_from_xy(stops_df.longitude, stops_df.latitude), crs=\"EPSG:4326\")\n",
        "\n",
        "# Assuming geodata (trajectories) is already prepared as a GeoDataFrame\n",
        "from keplergl import KeplerGl\n",
        "\n",
        "# Create a KeplerGl map instance\n",
        "map = KeplerGl(height=600)\n",
        "\n",
        "# Add the stops and trajectories data to the map\n",
        "map.add_data(data=stops_gdf, name='Stops')\n",
        "# map.add_data(data=geodata, name='Trajectories')  # Uncomment and use your trajectories data\n",
        "\n",
        "# Display the map\n",
        "map"
      ]
    },
    {
      "cell_type": "markdown",
      "metadata": {
        "id": "85mC3Gzq6u-C"
      },
      "source": [
        "Once you have found the perfect visualization, you can save the map as Html for publication. Here you can check this final map. with the next line"
      ]
    }
  ],
  "metadata": {
    "kernelspec": {
      "display_name": "Python 3 (ipykernel)",
      "language": "python",
      "name": "python3"
    },
    "language_info": {
      "codemirror_mode": {
        "name": "ipython",
        "version": 3
      },
      "file_extension": ".py",
      "mimetype": "text/x-python",
      "name": "python",
      "nbconvert_exporter": "python",
      "pygments_lexer": "ipython3",
      "version": "3.10.9"
    },
    "colab": {
      "provenance": [],
      "include_colab_link": true
    }
  },
  "nbformat": 4,
  "nbformat_minor": 0
}